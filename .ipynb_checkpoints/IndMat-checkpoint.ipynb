{
 "cells": [
  {
   "cell_type": "markdown",
   "metadata": {
    "cell_id": "acb7cdfccd994417a5347e5e8ed62c39",
    "deepnote_cell_height": 82,
    "deepnote_cell_type": "markdown",
    "tags": []
   },
   "source": [
    "# Finding NMF by SVD to generate NFT PNGs"
   ]
  },
  {
   "cell_type": "code",
   "execution_count": 1,
   "metadata": {
    "cell_id": "29fa365a-13a1-4031-b757-8d6bf85aedcf",
    "deepnote_cell_height": 225,
    "deepnote_cell_type": "code",
    "deepnote_to_be_reexecuted": false,
    "execution_millis": 1644,
    "execution_start": 1648462619106,
    "source_hash": "d78ac97",
    "tags": []
   },
   "outputs": [],
   "source": [
    "import numpy as np\n",
    "import matplotlib.pyplot as plt\n",
    "#%pip install opencv-python # Required to import cv2 !!!\n",
    "import cv2\n",
    "\n",
    "import os\n",
    "import time\n",
    "\n",
    "%matplotlib inline"
   ]
  },
  {
   "cell_type": "markdown",
   "metadata": {},
   "source": [
    "## Premade code for loading and displaying images"
   ]
  },
  {
   "cell_type": "code",
   "execution_count": 2,
   "metadata": {},
   "outputs": [],
   "source": [
    "def loadImages(N = 500):\n",
    "    \"\"\"\n",
    "    Loads images from cryptopunk dataset. The loading order is deterministic,\n",
    "    so for a certain N the exact same images will be loaded. \n",
    "    Input:\n",
    "        N, integer, number of images to load\n",
    "    Output:\n",
    "        faces, (24,24,4,N) numpy array containing images\n",
    "    \"\"\"\n",
    "\n",
    "    # Allocate array to store images\n",
    "    imgs = np.zeros((24,24,4,N))\n",
    "\n",
    "    # Iteration variable\n",
    "    i = 0\n",
    "\n",
    "    # Iterate over folders\n",
    "    for subdir, dirs, files in os.walk('./imgs'):\n",
    "\n",
    "        # Iterate over files\n",
    "        for file in files:\n",
    "\n",
    "            # Filepath to load from\n",
    "            filepath = subdir + os.sep + file\n",
    "\n",
    "            # Make sure that the file is a .png\n",
    "            if filepath.endswith('.png'):\n",
    "\n",
    "                # Load the image\n",
    "                im = cv2.imread(filepath, cv2.IMREAD_UNCHANGED)\n",
    "\n",
    "                # Convert it to RGBA and rescale pixels\n",
    "                imgs[:,:,:,i] = cv2.cvtColor(im, cv2.COLOR_BGRA2RGBA)/255.0\n",
    "\n",
    "                i+=1\n",
    "            if i == N:\n",
    "                break\n",
    "    return imgs\n"
   ]
  },
  {
   "cell_type": "code",
   "execution_count": 34,
   "metadata": {},
   "outputs": [],
   "source": [
    "# Code for plotting images\n",
    "def plotimgs(imgs, nplot = 8, rescale = False, filename = None):\n",
    "    \"\"\"\n",
    "    Plots nplot*nplot images on an nplot x nplot grid. \n",
    "    Saves to given filename if filename is given\n",
    "    Can also rescale the RGB channels\n",
    "    input:\n",
    "        imgs: (24,24,4,N) or (24,24,3,N) array containing images, where N > nplot**2\n",
    "        nplot: integer, nplot**2 images will be plotted\n",
    "        rescale: bool\n",
    "        filename: string, figure will be saved to this location. Should end with \".png\".\n",
    "    \"\"\"\n",
    "    # We will change some of the parameters of matplotlib, so we store the initial ones\n",
    "    oldparams = plt.rcParams['figure.figsize']\n",
    "\n",
    "    if nplot != 1:\n",
    "        # New params to make better plot. There definitely exists better ways of doing this\n",
    "        plt.rcParams['figure.figsize'] = (16, 16)\n",
    "            \n",
    "        # Initialize subplots\n",
    "        fig, axes = plt.subplots(nplot,nplot)\n",
    "\n",
    "        # Set background color\n",
    "        plt.gcf().set_facecolor(\"lightgray\")\n",
    "\n",
    "        # Iterate over images\n",
    "        for idx in range(nplot**2):\n",
    "\n",
    "            # Indices\n",
    "            i = idx//nplot; j = idx%nplot\n",
    "\n",
    "            # Remove axis\n",
    "            axes[i,j].axis('off')\n",
    "\n",
    "            # Rescale RGB channels by dividing my maximal value\n",
    "            if rescale:\n",
    "                scaled_img = np.copy(imgs[:,:,:,idx])\n",
    "                scaled_img[:,:,:3] = scaled_img[:,:,:3]/np.max(scaled_img[:,:,:3])\n",
    "                axes[i,j].imshow(scaled_img)\n",
    "            else:\n",
    "                axes[i,j].imshow(imgs[:,:,:,idx])\n",
    "\n",
    "        # Tight layout so images will appear closer together\n",
    "        plt.tight_layout()\n",
    "    else:\n",
    "        plt.rcParams['figure.figsize'] = (4, 4)\n",
    "        plt.figure()\n",
    "        plt.gcf().set_facecolor(\"lightgray\")\n",
    "        plt.axis('off')\n",
    "        if rescale:\n",
    "            scaled_img = np.copy(imgs)\n",
    "            scaled_img[:,:,:3] = scaled_img[:,:,:3]/np.max(scaled_img[:,:,:3])\n",
    "            plt.imshow(scaled_img)\n",
    "        else:\n",
    "            plt.imshow(imgs)\n",
    "    # Save if filename is given\n",
    "    if filename is not None:\n",
    "        plt.savefig(filename)\n",
    "\n",
    "    plt.show()\n",
    "\n",
    "    # Return to old parameters\n",
    "    plt.rcParams['figure.figsize'] = oldparams"
   ]
  },
  {
   "cell_type": "code",
   "execution_count": 4,
   "metadata": {},
   "outputs": [],
   "source": [
    "def splitImages(imgs):\n",
    "    # Split the images into opacity and rgb channels\n",
    "    imgs_opacity = imgs[:,:,3,:]\n",
    "    imgs_rgb = imgs[:,:,:3,:]\n",
    "    shape = imgs_rgb.shape\n",
    "\n",
    "    # Clever reshape \"trick\". This is the matrix we will apply the NMF to\n",
    "    imgs_reshaped = imgs_rgb.reshape(np.prod(shape)//500, 500)\n",
    "    return imgs_reshaped, imgs_opacity, imgs_rgb\n"
   ]
  },
  {
   "cell_type": "markdown",
   "metadata": {},
   "source": [
    "### Noise"
   ]
  },
  {
   "cell_type": "code",
   "execution_count": 5,
   "metadata": {},
   "outputs": [],
   "source": [
    "def add_noise(imgsArray, sigma = 0.1):\n",
    "    \"\"\"\n",
    "    Adds gaussian noise to images as described in text.\n",
    "    Note that imgs must be given as a (24*24*3, N) numpy array, i.e the reshaped images\n",
    "    Input:\n",
    "        imgs_reshaped: (1728,N) numpy array\n",
    "        sigma: scalar, noise level\n",
    "    Output:\n",
    "        noisy_faces: (1728,N) numpy array containing noisy images\n",
    "    \"\"\"\n",
    "    imgs_reshaped, imgs_opacity, imgs_rgb = imgsArray\n",
    "\n",
    "    # Array that will store the rgb channels of the noisy images\n",
    "    noisy_imgs = np.copy(imgs_reshaped)\n",
    "\n",
    "    # Number of noisy values we need\n",
    "    nnzero = imgs_reshaped[np.nonzero(imgs_reshaped)].shape[0]\n",
    "\n",
    "    # Sample noisy values and add noise\n",
    "    noise = np.random.normal(0.0,1,nnzero)\n",
    "    noisy_imgs[np.nonzero(imgs_reshaped)] += sigma*noise\n",
    "\n",
    "    # Clip to lie between 0 and 1 so that we can still interpret them as images\n",
    "    noisy_imgs = np.maximum(0.0,np.minimum(1.0, noisy_imgs))\n",
    "\n",
    "    return noisy_imgs\n",
    "\n",
    "def imgsNoise(imgs, imgsArray):\n",
    "    noisy_imgs = add_noise(imgsArray)\n",
    "    imgs_reshaped, imgs_opacity, imgs_rgb = imgsArray\n",
    "\n",
    "    # Calculate the error of the noisy images\n",
    "    noise_residual = np.linalg.norm(noisy_imgs - imgs_reshaped)\n",
    "\n",
    "    # For plotting noisy images we add the opacity\n",
    "    noisy_imgs_with_opacity = np.zeros(imgs.shape)\n",
    "    noisy_imgs_with_opacity[:,:,:3,:] = noisy_imgs.reshape(imgs_rgb.shape)\n",
    "    noisy_imgs_with_opacity[:,:,3,:] = imgs_opacity\n",
    "    plotimgs(noisy_imgs_with_opacity)"
   ]
  },
  {
   "cell_type": "code",
   "execution_count": 6,
   "metadata": {},
   "outputs": [],
   "source": [
    "def chooseNImages(N = 500):\n",
    "    \n",
    "    # Load all 10000 images\n",
    "    imgs = loadImages(10000)\n",
    "\n",
    "    # Select N random images\n",
    "    choices = np.random.choice(imgs.shape[-1],N, replace = False)\n",
    "    imgs = imgs[:,:,:,choices]\n",
    "\n",
    "    # Check that the shape is correct\n",
    "    assert (imgs.shape == (24, 24, 4, N))\n",
    "    return imgs"
   ]
  },
  {
   "cell_type": "markdown",
   "metadata": {},
   "source": [
    "Declaring global constants"
   ]
  },
  {
   "cell_type": "code",
   "execution_count": 90,
   "metadata": {},
   "outputs": [],
   "source": [
    "# Global Constants\n",
    "\n",
    "A1 = np.array([[1,0], \n",
    "               [0,1]])\n",
    "\n",
    "A2 = np.array([[1,2], \n",
    "               [1,1], \n",
    "               [1,2]])\n",
    "\n",
    "A3 = np.array([[2,1,1],\n",
    "               [2,1,1],\n",
    "               [1,1,2]])\n",
    "\n",
    "A4 = np.array([[2,1,0],\n",
    "               [1,2,3],\n",
    "               [0,3,3]])\n",
    "\n",
    "N = 500 # Might be better to keep this local, it is currently not in use\n",
    "\n",
    "IMGS = chooseNImages()"
   ]
  },
  {
   "cell_type": "markdown",
   "metadata": {
    "cell_id": "c09c539ac0dd4a6e8b0b50c2d0a44f28",
    "deepnote_cell_height": 134.125,
    "deepnote_cell_type": "markdown",
    "tags": []
   },
   "source": [
    "#### ting som er fint å bare ha skrevet inn:\n",
    "\n",
    "Multiplicative update rule proposed by Lee and Seung:\n",
    "\n",
    "$ (H_{k+1})_{ij} = (H_k)_{ij} \\frac{(W_k^T A)_{ij}}{(W_k^TW_kH_k)_{ij}} $\n",
    "\n",
    "$ (W_{k+1})_{ij} = (W_k)_{ij} \\frac{(AH_{k+1}^T)_{ij}}{(W_kH_{k+1}H_{k+1}^T)_{ij}} $\n",
    "\n",
    "We will be using the operators $\\otimes$ and $\\oslash$ which are defined here:\n",
    "\n",
    "$ (A \\otimes B)_{ij} = A_{ij} \\times B_{ij} $,\n",
    "\n",
    "$ (A \\oslash B)_{ij} = \\frac{A_{ij}}{B_{ij}} $"
   ]
  },
  {
   "cell_type": "markdown",
   "metadata": {},
   "source": [
    "## Task 1"
   ]
  },
  {
   "cell_type": "markdown",
   "metadata": {
    "cell_id": "fcfb914b253a4836a65088ca46fdf5bd",
    "deepnote_cell_height": 439,
    "deepnote_cell_type": "markdown",
    "tags": []
   },
   "source": [
    "### a) \n",
    "\n",
    "Let $A$ be a non-negative $n_H \\times m_W$ matrix, and let $W_0, H_0$ be positive $n_W \\times m_W$, and $n_H \\times m_H$ matrices respectively. We want to show that this implies that $W_k, H_k$ are non-negative for $\\forall k \\geq 0$.\n",
    "\n",
    "We will prove this using induction. We will first make use of an induction hypothesis, namely that $W_t, H_t$ are non-negative. Then choose $r_H, c_H, r_W, c_W$, such that: $1 \\leq r_H \\leq n_H,\\\\ 1 \\leq c_H \\leq m_H,\\\\ 1 \\leq r_W \\leq n_W,\\\\ 1 \\leq c_W \\leq m_W$\n",
    "\n",
    "$H_k$ for $k = t + 1$:\n",
    "\n",
    "$(H_{t+1})_{r_H c_H} = (H_t)_{r_H c_H} \\frac{(W_t^TA)_{r_H c_H}}{(W_t^TW_tH_t)_{r_H c_H}}$\n",
    "\n",
    "From the assumption we have that every element in $H_t, W_t$ and $A$ are non negative, so it follows that matrix multiplication with these matrices may only net matrices with non-negative elements. In particular we have that $(H_{t+1})_{r_H c_H} = \\prod a_i$, where $a_i$ is non-negative for every $i$ $\\implies (H_{t+1})_{r_H c_H} \\geq 0$. In fact, since $r_H$ and $c_H$ were arbitrarily chosen, we have that $H_{t+1}$ is non-negative.\n",
    "\n",
    "$W_k$ for $k = t + 1$:\n",
    "\n",
    "$(W_{t+1})_{r_W c_W} = (W_t)_{r_W c_W} \\frac{(AH_{t+1}^T)_{r_W c_W}}{(W_tH_{t+1}H_{t+1}^T)_{r_W c_W}}$\n",
    "\n",
    "Similarly, since we found that $H_{t+1}$ is non-neagtive, we have that $(W_{t+1})_{r_W c_W} \\geq 0$. And since $r_W$ and $c_W$ were arbitrarily chosen, we have that $W_{t+1}$ is non-negative.\n",
    "\n",
    "Now since $W_0, H_0$ were positve, and thus non-negative, we have successfully proven by induction that $W_k, H_k$ are non-negative for $\\forall k \\geq 0.$ $\\blacksquare$"
   ]
  },
  {
   "cell_type": "markdown",
   "metadata": {
    "cell_id": "6f9d8e05ab4147ba99e0d8143e0e72f6",
    "deepnote_cell_height": 332.25,
    "deepnote_cell_type": "markdown",
    "tags": []
   },
   "source": [
    "### b) \n",
    "\n",
    "Let $ (W_k^TA) \\oslash (W_k^TW_kH_k) = \\overline{1}$, where $\\overline{1}_{ij} = 1$ for $\\forall i,j$. We want to prove that this implies that $H_{k+1} = H_{k}$.\n",
    "\n",
    "$ (H_{k+1})_{ij} = (H_k)_{ij} \\frac{(W_k^T A)_{ij}}{(W_k^TW_kH_k)_{ij}} = (H_k)_{ij} \\cdot 1 = (H_k)_{ij}$\n",
    "\n",
    "So $(H_{k+1})_{ij} = (H_k)_{ij}$ for $\\forall i, j$. Which implies that $H_{k+1} = H_k$. $\\blacksquare$"
   ]
  },
  {
   "cell_type": "markdown",
   "metadata": {
    "cell_id": "c0eb8db8e47d4ec39c9937cf67d81e44",
    "deepnote_cell_height": 122.796875,
    "deepnote_cell_type": "markdown",
    "tags": []
   },
   "source": [
    "### c) \n",
    "\n",
    "Let $W_0, H_0 = \\overline{0}$, where $\\overline{0}_{ij} = 0$ for $\\forall i,j$. This implies that:\n",
    "\n",
    "$ (H_1)_{ij} = (H_0)_{ij} \\frac{(W_0^T A)_{ij}}{(W_0^TW_0H_0)_{ij}} = 0\\cdot\\frac{0}{0}$\n",
    "\n",
    "$ (W_1)_{ij} = (W_0)_{ij} \\frac{(AH_1^T)_{ij}}{(W_0H_1H_1^T)_{ij}} = 0\\cdot\\frac{0}{0}$\n",
    "\n",
    "This tells us that we should make precausions to avoid zeros in $H$, and $W$ to avoid divison by zero errors."
   ]
  },
  {
   "cell_type": "markdown",
   "metadata": {
    "cell_id": "81a1c38b11ba491ca1846bad6e541416",
    "deepnote_cell_height": 62,
    "deepnote_cell_type": "markdown",
    "tags": []
   },
   "source": [
    "### d) "
   ]
  },
  {
   "cell_type": "markdown",
   "metadata": {},
   "source": [
    "We will now implement the NMF algorithm proposed by Lee and Seung. We will compare the resulting W and H matricies using d=1, and d=2 for the matrices A1 and A2. Since A1 and A2 have two columns, d=1 should cause a loss of information, and d=2 should be sufficient to encapsulate the all the information in A1 and A2 (given that we run the algorithm indefinetly). We therefor expect d=1 to give a poor matrix factorization of A1 and A2, and d=2 should give an almost perfect matrix factorization of A1 and A2."
   ]
  },
  {
   "cell_type": "code",
   "execution_count": 8,
   "metadata": {},
   "outputs": [],
   "source": [
    "def random_matrix_initialization(A, d, delta, seed=0):\n",
    "    np.random.seed(seed)\n",
    "    rows_A, cols_A = A.shape\n",
    "    # W0 and H0 are positve matices\n",
    "    W = np.random.uniform(delta, 1, (rows_A, d))\n",
    "    H = np.random.uniform(delta, 1, (d, cols_A))\n",
    "    return W, H"
   ]
  },
  {
   "cell_type": "code",
   "execution_count": 9,
   "metadata": {
    "cell_id": "843641ef20574cbe8bafdf7daa28bc05",
    "deepnote_cell_height": 711,
    "deepnote_cell_type": "code",
    "deepnote_to_be_reexecuted": false,
    "execution_millis": 21,
    "execution_start": 1648462620774,
    "source_hash": "9bcc0603",
    "tags": []
   },
   "outputs": [],
   "source": [
    "def NMFSimple(A, d, delta=1e-9, maxiter=1000, seed=0):\n",
    "    \"\"\"\n",
    "    ((Skriv en forklaring på hva funksjonen gjør her))\n",
    "    input:\n",
    "        V: (m,n) input array\n",
    "        d: integer, Number of components we want to decompose V into\n",
    "        delta, float, small number for safe division\n",
    "        maxiter: integer, maximum number of iterations\n",
    "        seed: integer, random seed\n",
    "    output:\n",
    "        W: (m,d) array\n",
    "        H: (d,n) array\n",
    "    \"\"\"\n",
    "        \n",
    "    W, H = random_matrix_initialization(A, d, delta, seed)\n",
    "    \n",
    "    for _ in range(maxiter):\n",
    "        # Update H\n",
    "        H *= (W.T @ A) / (W.T @ W @ H + delta)\n",
    "        \n",
    "        # Update W\n",
    "        W *= (A @ H.T) / (W @ H @ H.T + delta)\n",
    "    \n",
    "    return W, H"
   ]
  },
  {
   "cell_type": "code",
   "execution_count": 10,
   "metadata": {
    "cell_id": "a158bc6286db490e81a4302ce79e1a3c",
    "deepnote_cell_height": 738,
    "deepnote_cell_type": "code",
    "deepnote_to_be_reexecuted": false,
    "execution_millis": 330,
    "execution_start": 1648462620816,
    "source_hash": "3fec83c8",
    "tags": []
   },
   "outputs": [],
   "source": [
    "def NMFTest(d):\n",
    "    W1, H1 = NMFSimple(A1, d)\n",
    "    W2, H2 = NMFSimple(A2, d)\n",
    "\n",
    "    print(f\"W1 =\\n{W1}\\n\\nH1 =\\n{H1}\\n\\nW2 =\\n{W2}\\n\\nH2 =\\n{H2}\\n\\n\")\n",
    "    print(f\"A1 ~ W1H1 =\\n{W1@H1}\\n\\nA2 ~ W2H2 =\\n{W2@H2}\\n\\n\")\n",
    "    print(f\"Frobenius norm of A1-W1H1: {np.linalg.norm(A1 - W1@H1, 'fro')}\\nFrobenius norm of A2-W2H2: {np.linalg.norm(A2 - W2@H2, 'fro')}\")"
   ]
  },
  {
   "cell_type": "code",
   "execution_count": 11,
   "metadata": {},
   "outputs": [
    {
     "name": "stdout",
     "output_type": "stream",
     "text": [
      "W1 =\n",
      "[[0.5488134 ]\n",
      " [0.71518978]]\n",
      "\n",
      "H1 =\n",
      "[[0.67530259 0.880025  ]]\n",
      "\n",
      "W2 =\n",
      "[[0.73943875]\n",
      " [0.45129226]\n",
      " [0.73943875]]\n",
      "\n",
      "H2 =\n",
      "[[1.48794615 2.62799618]]\n",
      "\n",
      "\n",
      "A1 ~ W1H1 =\n",
      "[[0.37061511 0.48296951]\n",
      " [0.48296951 0.62938489]]\n",
      "\n",
      "A2 ~ W2H2 =\n",
      "[[1.10024505 1.94324222]\n",
      " [0.67149858 1.18599434]\n",
      " [1.10024505 1.94324222]]\n",
      "\n",
      "\n",
      "Frobenius norm of A1-W1H1: 0.9999999999999999\n",
      "Frobenius norm of A2-W2H2: 0.4111546000651087\n"
     ]
    }
   ],
   "source": [
    "NMFTest(1)"
   ]
  },
  {
   "cell_type": "markdown",
   "metadata": {},
   "source": [
    "A decent amount of precision has been lost factorizing A1 and A2 with NMF with d=1, which can readily be seen from the resulting approximations for A1 and A2, as well as from their respective frobenius norms. Despite being the smallest matrix, the A1 matrix lost the most information during the NMF, this is because of the various factors involved...\n",
    "## Explain why A1 got a worse NMF than A2, as well as why the frobenius norm of A1 - H1W1 = 1.0"
   ]
  },
  {
   "cell_type": "markdown",
   "metadata": {
    "cell_id": "9521c5ccc8d1488e981c83fc3b1429a2",
    "deepnote_cell_height": 62,
    "deepnote_cell_type": "markdown",
    "tags": []
   },
   "source": [
    "### e)"
   ]
  },
  {
   "cell_type": "code",
   "execution_count": 12,
   "metadata": {
    "cell_id": "e39e3afad2b7412a8653ec2e77df8f01",
    "deepnote_cell_height": 202,
    "deepnote_cell_type": "code",
    "deepnote_to_be_reexecuted": false,
    "execution_millis": 400,
    "execution_start": 1648462621156,
    "source_hash": "35e7bfc2",
    "tags": []
   },
   "outputs": [
    {
     "name": "stdout",
     "output_type": "stream",
     "text": [
      "W1 =\n",
      "[[0.         1.21022501]\n",
      " [1.25124009 0.        ]]\n",
      "\n",
      "H1 =\n",
      "[[0.         0.79920713]\n",
      " [0.82629262 0.        ]]\n",
      "\n",
      "W2 =\n",
      "[[0.67088158 0.63134866]\n",
      " [0.14933881 0.79205272]\n",
      " [0.67088158 0.63134866]]\n",
      "\n",
      "H2 =\n",
      "[[0.3676692  2.17977892]\n",
      " [1.19321946 0.85155242]]\n",
      "\n",
      "\n",
      "A1 ~ W1H1 =\n",
      "[[1. 0.]\n",
      " [0. 1.]]\n",
      "\n",
      "A2 ~ W2H2 =\n",
      "[[1. 2.]\n",
      " [1. 1.]\n",
      " [1. 2.]]\n",
      "\n",
      "\n",
      "Frobenius norm of A1-W1H1: 1.740760463022545e-09\n",
      "Frobenius norm of A2-W2H2: 1.1021844267762684e-09\n"
     ]
    }
   ],
   "source": [
    "NMFTest(2)"
   ]
  },
  {
   "cell_type": "markdown",
   "metadata": {},
   "source": [
    "The NMF of A1 and A2 with d=2 was fairly precise, in fact since numpy represents matrix entries with a precision of 8 decimals, we can see that each entry is at least of a precision of $5\\cdot10^{-9}$."
   ]
  },
  {
   "cell_type": "markdown",
   "metadata": {
    "cell_id": "093ed342be0841838c6c9499d70321bc",
    "deepnote_cell_height": 54,
    "deepnote_cell_type": "markdown",
    "tags": []
   },
   "source": [
    "#### Refining the algorithm by keeping track of the frobenius norm"
   ]
  },
  {
   "cell_type": "code",
   "execution_count": 13,
   "metadata": {
    "cell_id": "fc51fcf922404a5f8ad1d2cbf4b1c700",
    "deepnote_cell_height": 693,
    "deepnote_cell_type": "code",
    "deepnote_to_be_reexecuted": false,
    "execution_millis": 7,
    "execution_start": 1648462621567,
    "source_hash": "89915422",
    "tags": []
   },
   "outputs": [],
   "source": [
    "def NMFNorm(A, d, delta = 1e-9, maxiter = 1000, seed = 0):\n",
    "    \"\"\"\n",
    "    ((Skriv en forklaring på hva funksjonen gjør her))\n",
    "    input:\n",
    "        V: (m,n) input array\n",
    "        d: integer, Number of components we want to decompose V into\n",
    "        delta, float, small number for safe division\n",
    "        maxiter: integer, maximum number of iterations\n",
    "        seed: integer, random seed\n",
    "    output:\n",
    "        W: (m,d) array\n",
    "        H: (d,n) array\n",
    "        norm: (description) \n",
    "    \"\"\"\n",
    "        \n",
    "    W, H = random_matrix_initialization(A, d, seed)\n",
    "    \n",
    "    norm = np.zeros(maxiter)\n",
    "    \n",
    "    for n in range(maxiter):\n",
    "        # Update H\n",
    "        H *= (W.T @ A) / (W.T @ W @ H + delta)\n",
    "        \n",
    "        # Update W\n",
    "        W *= (A @ H.T) / (W @ H @ H.T + delta)\n",
    "                \n",
    "        norm[n] = np.linalg.norm(A - W @ H, 'fro')\n",
    "    \n",
    "    return W, H, norm"
   ]
  },
  {
   "cell_type": "markdown",
   "metadata": {
    "cell_id": "65cb5f4d40b6427080f71dbea6c57a46",
    "deepnote_cell_height": 62,
    "deepnote_cell_type": "markdown",
    "tags": []
   },
   "source": [
    "### f)"
   ]
  },
  {
   "cell_type": "markdown",
   "metadata": {},
   "source": [
    "Finding the rank of A3 and A4. \n",
    "\n",
    "## We should maybe find the rank with our own functions?"
   ]
  },
  {
   "cell_type": "code",
   "execution_count": 14,
   "metadata": {
    "cell_id": "dcf10cc84526405d879dd87e9b3fdec2",
    "deepnote_cell_height": 258,
    "deepnote_cell_type": "code",
    "deepnote_to_be_reexecuted": false,
    "execution_millis": 10,
    "execution_start": 1648462621580,
    "source_hash": "eeb45af7",
    "tags": []
   },
   "outputs": [],
   "source": [
    "def printSpecificRank():\n",
    "    print(f\"The rank of A3 is: {np.linalg.matrix_rank(A3)}\\nThe rank of A4 is: {np.linalg.matrix_rank(A4)}\")"
   ]
  },
  {
   "cell_type": "code",
   "execution_count": 15,
   "metadata": {},
   "outputs": [
    {
     "name": "stdout",
     "output_type": "stream",
     "text": [
      "The rank of A3 is: 2\n",
      "The rank of A4 is: 3\n"
     ]
    }
   ],
   "source": [
    "printSpecificRank()"
   ]
  },
  {
   "cell_type": "markdown",
   "metadata": {
    "cell_id": "a142c305b0484147b008c041a415120f",
    "deepnote_cell_height": 62,
    "deepnote_cell_type": "markdown",
    "tags": []
   },
   "source": [
    "### g)"
   ]
  },
  {
   "cell_type": "code",
   "execution_count": 16,
   "metadata": {
    "cell_id": "ab1d2fe4cec6431280c4e89c7d6f51a5",
    "deepnote_cell_height": 2292,
    "deepnote_cell_type": "code",
    "deepnote_output_heights": [
     280,
     280,
     280,
     280,
     280,
     280
    ],
    "deepnote_to_be_reexecuted": false,
    "execution_millis": 4585,
    "execution_start": 1648462621595,
    "source_hash": "bac20d11",
    "tags": []
   },
   "outputs": [],
   "source": [
    "def plotFroNorm(A):\n",
    "    fig, (ax1, ax2, ax3) = plt.subplots(1, 3, figsize=(10, 4))\n",
    "    \n",
    "    W, H, norm1 = NMFNorm(A, 1)\n",
    "    ax1.semilogy(np.linspace(0, 1000, num=1000), norm1, color='red')\n",
    "    ax1.set_title(f'$||A-WH||_F$ with d = 1')\n",
    "    ax1.set_xlabel('Iterations')\n",
    "    ax1.set_ylabel('Frobenius norm')\n",
    "    ax1.grid(True)\n",
    "    \n",
    "    W, H, norm2 = NMFNorm(A, 2)\n",
    "    ax2.semilogy(np.linspace(0, 1000, num=1000), norm2, color='red')\n",
    "    ax2.set_title(f'$||A-WH||_F$ with d = 2')\n",
    "    ax2.set_xlabel('Iterations')\n",
    "    ax2.set_ylabel('Frobenius norm')\n",
    "    ax2.grid(True)\n",
    "    \n",
    "    W, H, norm3 = NMFNorm(A, 3)\n",
    "    ax3.semilogy(np.linspace(0, 1000, num=1000), norm3, color='red')\n",
    "    ax3.set_title(f'$||A-WH||_F$ with d = 3')\n",
    "    ax3.set_xlabel('Iterations')\n",
    "    ax3.set_ylabel('Frobenius norm')\n",
    "    ax3.grid(True)\n",
    "    \n",
    "    \n",
    "    plt.tight_layout()\n",
    "    plt.show()"
   ]
  },
  {
   "cell_type": "code",
   "execution_count": 17,
   "metadata": {
    "scrolled": false
   },
   "outputs": [
    {
     "name": "stdout",
     "output_type": "stream",
     "text": [
      "A = A3\n"
     ]
    },
    {
     "data": {
      "image/png": "[encoded data removed]",
      "text/plain": [
       "<Figure size 720x288 with 3 Axes>"
      ]
     },
     "metadata": {
      "needs_background": "light"
     },
     "output_type": "display_data"
    },
    {
     "name": "stdout",
     "output_type": "stream",
     "text": [
      "A = A4\n"
     ]
    },
    {
     "data": {
      "image/png": "[encoded data removed]",
      "text/plain": [
       "<Figure size 720x288 with 3 Axes>"
      ]
     },
     "metadata": {
      "needs_background": "light"
     },
     "output_type": "display_data"
    }
   ],
   "source": [
    "print(\"A = A3\")\n",
    "plotFroNorm(A3)\n",
    "print(\"A = A4\")\n",
    "plotFroNorm(A4)"
   ]
  },
  {
   "cell_type": "markdown",
   "metadata": {},
   "source": [
    "## Convey this information without refering to the task sheet\n",
    "Every graph is strictly decreasing, so equation (17) is satisified\n",
    "\n",
    "## Very important that every graph is accounted for here!"
   ]
  },
  {
   "cell_type": "markdown",
   "metadata": {
    "cell_id": "07e514bc553b45598f46b8cf09215f84",
    "deepnote_cell_height": 243.125,
    "deepnote_cell_type": "markdown",
    "tags": []
   },
   "source": [
    "## Task 2"
   ]
  },
  {
   "cell_type": "markdown",
   "metadata": {},
   "source": [
    "### a)"
   ]
  },
  {
   "cell_type": "code",
   "execution_count": 94,
   "metadata": {
    "cell_id": "ced8bc3f81a94240a5ca3dd4b1d4bbf4",
    "deepnote_cell_height": 726,
    "deepnote_cell_type": "code",
    "deepnote_output_heights": [
     611
    ],
    "deepnote_to_be_reexecuted": false,
    "execution_millis": 3499,
    "execution_start": 1648462628672,
    "source_hash": "c21b1d61",
    "tags": []
   },
   "outputs": [
    {
     "data": {
      "image/png": "[encoded data removed]",
      "text/plain": [
       "<Figure size 1152x1152 with 64 Axes>"
      ]
     },
     "metadata": {},
     "output_type": "display_data"
    }
   ],
   "source": [
    "# Example of plotting 8 times 8 images and saving the output to a file named \"punks.png\"\n",
    "plotimgs(IMGS, 8, filename=\"punks.png\")"
   ]
  },
  {
   "cell_type": "markdown",
   "metadata": {},
   "source": [
    "### b)"
   ]
  },
  {
   "cell_type": "code",
   "execution_count": 70,
   "metadata": {},
   "outputs": [],
   "source": [
    "def createMeanImage(imgs):\n",
    "    meanImage = np.zeros((24, 24, 4))\n",
    "    for img in range(imgs.shape[-1]):\n",
    "        meanImage += imgs[:,:,:,img]\n",
    "    meanImage /= imgs.shape[-1]\n",
    "    return meanImage"
   ]
  },
  {
   "cell_type": "code",
   "execution_count": 95,
   "metadata": {},
   "outputs": [
    {
     "data": {
      "image/png": "[encoded data removed]",
      "text/plain": [
       "<Figure size 288x288 with 1 Axes>"
      ]
     },
     "metadata": {},
     "output_type": "display_data"
    }
   ],
   "source": [
    "plotimgs(createMeanImage(IMGS), 1, filename=\"meanPunk.png\")"
   ]
  },
  {
   "cell_type": "markdown",
   "metadata": {},
   "source": [
    "Note that using a different selection of images yields basicly the same result. This shows just how similar these face designs truly are, as a varied selection of photos should yield an inconsistent mess.  "
   ]
  },
  {
   "cell_type": "code",
   "execution_count": 68,
   "metadata": {},
   "outputs": [
    {
     "data": {
      "image/png": "[encoded data removed]",
      "text/plain": [
       "<Figure size 1152x1152 with 64 Axes>"
      ]
     },
     "metadata": {},
     "output_type": "display_data"
    }
   ],
   "source": [
    "# Example of plotting 8 times 8 images with noise\n",
    "\n",
    "imgsNoise(IMGS, splitImages(IMGS))"
   ]
  }
 ],
 "metadata": {
  "deepnote": {
   "is_reactive": false
  },
  "deepnote_execution_queue": [],
  "deepnote_notebook_id": "949ed88a-3246-4247-ae91-eaf14b392f40",
  "kernelspec": {
   "display_name": "Python 3 (ipykernel)",
   "language": "python",
   "name": "python3"
  },
  "language_info": {
   "codemirror_mode": {
    "name": "ipython",
    "version": 3
   },
   "file_extension": ".py",
   "mimetype": "text/x-python",
   "name": "python",
   "nbconvert_exporter": "python",
   "pygments_lexer": "ipython3",
   "version": "3.9.5"
  }
 },
 "nbformat": 4,
 "nbformat_minor": 2
}
